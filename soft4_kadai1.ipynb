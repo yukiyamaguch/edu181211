{
 "cells": [
  {
   "cell_type": "code",
   "execution_count": 3,
   "metadata": {
    "id": "bPxVA7ATKWps",
    "colab_type": "code",
    "outputId": "a7698b03-7f6b-4cd7-8d10-bea9fcb82321",
    "executionInfo": {
     "status": "ok",
     "timestamp": 1.544516464593E12,
     "user_tz": -540.0,
     "elapsed": 2821.0,
     "user": {
      "displayName": "山口裕希",
      "photoUrl": "https://lh5.googleusercontent.com/-khAiuL3iwPc/AAAAAAAAAAI/AAAAAAAAAFw/anVyoask9DM/s64/photo.jpg",
      "userId": "02133059967748665926"
     }
    },
    "colab": {
     "base_uri": "https://localhost:8080/",
     "height": 90.0
    }
   },
   "outputs": [
    {
     "name": "stdout",
     "output_type": "stream",
     "text": [
      "残高は0円です\n",
      "残高は0円です\n",
      "残高は5000円です\n",
      "残高は3000円です\n"
     ]
    }
   ],
   "source": [
    "class MainShopCharger():\n",
    "  def __init__(self):\n",
    "    self.insertedStudentCard = None\n",
    "    \n",
    "  def insertStudentCard(self, studentCard):\n",
    "    self.insertedStudentCard = studentCard\n",
    "    \n",
    "  def chargeMoney(self, money):\n",
    "    if self.insertedStudentCard == None:\n",
    "      print ('学生証が挿入されていません')\n",
    "    else:\n",
    "      self.insertedStudentCard.setAccountBalance(money)\n",
    "      self.insertedStudentCard = None\n",
    "  \n",
    "  \n",
    "class StudentCard():\n",
    "  id_list = []\n",
    "  \n",
    "  def __init__(self):\n",
    "    self.id = 0\n",
    "    self.name = ''\n",
    "    self.accountBalance  = 0\n",
    "  \n",
    "  def __init__(self, id, name):\n",
    "    self.id = id\n",
    "    self.name = name\n",
    "    self.accountBalance  = 0\n",
    "    self.addList(id)\n",
    "    \n",
    "  def addList(self, id):\n",
    "    if id in self.id_list:\n",
    "      print ('同じidのカードです')\n",
    "    else:\n",
    "      self.id_list.append(id)\n",
    "  \n",
    "  def setAccountBalance(self, accountBalance):\n",
    "    self.accountBalance += accountBalance\n",
    "  \n",
    "  def getAccountBalance(self):\n",
    "    return self.accountBalance\n",
    "  \n",
    "  def printAccountBalance(self):\n",
    "    print('残高は'+str(self.accountBalance)+'円です')\n",
    "\n",
    "    \n",
    "if __name__ == \"__main__\":\n",
    "  shopCharger = MainShopCharger()\n",
    "  studentCard1 = StudentCard(183379, 'yamaguchi')\n",
    "  studentCard2 = StudentCard(183305, 'Abu')\n",
    "  studentCard1.printAccountBalance()\n",
    "  studentCard2.printAccountBalance()\n",
    "  shopCharger.insertStudentCard(studentCard1)\n",
    "  shopCharger.chargeMoney(5000)\n",
    "  studentCard1.printAccountBalance()\n",
    "  shopCharger.insertStudentCard(studentCard2)\n",
    "  shopCharger.chargeMoney(3000)\n",
    "  studentCard2.printAccountBalance()\n",
    "  "
   ]
  }
 ],
 "metadata": {
  "colab": {
   "name": "soft4_kadai1.ipynb",
   "version": "0.3.2",
   "provenance": [],
   "collapsed_sections": []
  },
  "kernelspec": {
   "name": "python3",
   "display_name": "Python 3"
  },
  "accelerator": "GPU"
 },
 "nbformat": 4,
 "nbformat_minor": 0
}
